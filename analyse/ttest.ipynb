{
 "cells": [
  {
   "cell_type": "code",
   "execution_count": 2,
   "metadata": {},
   "outputs": [],
   "source": [
    "import pandas as pd\n",
    "import scipy.stats as stats\n",
    "from scipy.stats import pearsonr\n",
    "from numpy import std, mean, sqrt"
   ]
  },
  {
   "cell_type": "code",
   "execution_count": 3,
   "metadata": {},
   "outputs": [],
   "source": [
    "df_bl_120=pd.read_csv('/Users/marlenebultemann/Desktop/IUG/Delfi/#Messungen/Baseline_Tesla_WinAutomate_120s+60s_cooldown_new/df_bl_120.csv')\n",
    "df_bl_600=pd.read_csv('/Users/marlenebultemann/Desktop/IUG/Delfi/#Messungen/Baseline_Tesla_600+60/df_bl_600.csv')\n",
    "df_dt=pd.read_csv('/Users/marlenebultemann/Desktop/IUG/Delfi/#Messungen/1/df_dt.csv')\n",
    "df_lr=pd.read_csv('/Users/marlenebultemann/Desktop/IUG/Delfi/#Messungen/2/df_lr.csv')\n",
    "df_svm=pd.read_csv('/Users/marlenebultemann/Desktop/IUG/Delfi/#Messungen/4_SVM/df_svm.csv')\n",
    "df_nn=pd.read_csv('/Users/marlenebultemann/Desktop/IUG/Delfi/#Messungen/3_NN/df_nn.csv')"
   ]
  },
  {
   "cell_type": "code",
   "execution_count": 29,
   "metadata": {},
   "outputs": [],
   "source": [
    "#credit: https://stackoverflow.com/questions/21532471/how-to-calculate-cohens-d-in-python\n",
    "def cohen_d(x,y):\n",
    "    nx = len(x)\n",
    "    ny = len(y)\n",
    "    dof = nx + ny - 2\n",
    "    return (mean(x) - mean(y)) / sqrt(((nx-1)*std(x, ddof=1) ** 2 + (ny-1)*std(y, ddof=1) ** 2) / dof)"
   ]
  },
  {
   "cell_type": "code",
   "execution_count": 22,
   "metadata": {},
   "outputs": [],
   "source": [
    "cpu_bl120 = df_bl_120['CPU']\n",
    "ram_bl120 = df_bl_120['RAM']\n",
    "el_power_bl120 = df_bl_120['Wert 1-avg[W]']\n",
    "\n",
    "#600+ 60\n",
    "cpu_bl_600= df_bl_600['CPU']\n",
    "ram_bl_600= df_bl_600['RAM']\n",
    "el_power_bl_600= df_bl_600['Wert 1-avg[W]']\n",
    "\n",
    "#dt\n",
    "cpu_dt = df_dt['CPU']\n",
    "ram_dt = df_dt['RAM']\n",
    "el_power_dt = df_dt['Wert 1-avg[W]']\n",
    "\n",
    "#lr\n",
    "cpu_lr = df_lr['CPU']\n",
    "ram_lr = df_lr['RAM']\n",
    "el_power_lr = df_lr['Wert 1-avg[W]']\n",
    "\n",
    "#svm\n",
    "cpu_svm = df_svm['CPU']\n",
    "ram_svm = df_svm['RAM']\n",
    "el_power_svm = df_svm['Wert 1-avg[W]']\n",
    "\n",
    "#nn\n",
    "cpu_nn = df_nn['CPU']\n",
    "ram_nn = df_nn['RAM']\n",
    "el_power_nn = df_nn['Wert 1-avg[W]']"
   ]
  },
  {
   "cell_type": "code",
   "execution_count": 6,
   "metadata": {},
   "outputs": [
    {
     "name": "stdout",
     "output_type": "stream",
     "text": [
      "Ttest_relResult(statistic=-0.8591237246517621, pvalue=0.3903289878614826)\n",
      "0.10077319833319814\n",
      "-0.01943469921361977\n",
      "Ttest_relResult(statistic=-1.9674866628845809, pvalue=0.0492031600432554)\n",
      "0.15611078877535223\n",
      "-0.043636493751814484\n",
      "Ttest_relResult(statistic=-16.28254756761321, pvalue=1.3765599093726153e-57)\n",
      "0.10461724690357177\n",
      "-0.37568732644303093\n"
     ]
    }
   ],
   "source": [
    "groups_cpu = [cpu_dt,cpu_lr, cpu_nn]\n",
    "for i in groups_cpu:\n",
    "    print(stats.ttest_rel(cpu_bl120, i))\n",
    "    print(pearsonr(cpu_bl120, i)[0])\n",
    "    print(cohen_d(cpu_bl120, i))"
   ]
  },
  {
   "cell_type": "code",
   "execution_count": 7,
   "metadata": {},
   "outputs": [
    {
     "name": "stdout",
     "output_type": "stream",
     "text": [
      "Ttest_relResult(statistic=-1.8122228778032115, pvalue=0.07003435377759866)\n",
      "0.7960389118538117\n",
      "-0.01923498008523689\n",
      "Ttest_relResult(statistic=-17.551277386285143, pvalue=2.9479697004228777e-66)\n",
      "0.428726390027681\n",
      "-0.34578268164453096\n"
     ]
    }
   ],
   "source": [
    "groups_cpu = [cpu_lr, cpu_nn]\n",
    "for i in groups_cpu:\n",
    "    print(stats.ttest_rel(cpu_dt, i))\n",
    "    print(pearsonr(cpu_dt, i)[0])\n",
    "    print(cohen_d(cpu_dt, i))"
   ]
  },
  {
   "cell_type": "code",
   "execution_count": 19,
   "metadata": {},
   "outputs": [
    {
     "name": "stdout",
     "output_type": "stream",
     "text": [
      "Ttest_relResult(statistic=-16.834956387916915, pvalue=2.7033886986104514e-61)\n",
      "0.4050575062662509\n",
      "-0.3336997036310567\n"
     ]
    }
   ],
   "source": [
    "print(stats.ttest_rel(cpu_lr, cpu_nn))\n",
    "print(pearsonr(cpu_lr, cpu_nn)[0])\n",
    "print(cohen_d(cpu_lr, cpu_nn))"
   ]
  },
  {
   "cell_type": "code",
   "execution_count": 23,
   "metadata": {},
   "outputs": [
    {
     "name": "stdout",
     "output_type": "stream",
     "text": [
      "Ttest_relResult(statistic=-141.5851017807833, pvalue=0.0)\n",
      "0.014300473080402783\n",
      "-1.4887461317832298\n"
     ]
    }
   ],
   "source": [
    "#bl600 & svm\n",
    "print(stats.ttest_rel(cpu_bl_600, cpu_svm))\n",
    "print(pearsonr(cpu_bl_600, cpu_svm)[0])\n",
    "print(cohen_d(cpu_bl_600, cpu_svm))"
   ]
  },
  {
   "cell_type": "code",
   "execution_count": 39,
   "metadata": {},
   "outputs": [
    {
     "name": "stdout",
     "output_type": "stream",
     "text": [
      "Ttest_relResult(statistic=417.59716944648284, pvalue=0.0)\n",
      "0.06252788792690017\n",
      "9.762216216292705\n",
      "Ttest_relResult(statistic=355.3999386373365, pvalue=0.0)\n",
      "0.07871592235356373\n",
      "8.30344362369203\n",
      "Ttest_relResult(statistic=260.0912928769322, pvalue=0.0)\n",
      "0.06794885969137471\n",
      "6.0861799240738925\n"
     ]
    }
   ],
   "source": [
    "groups_ram = [ram_dt,ram_lr, ram_nn]\n",
    "for i in groups_ram:\n",
    "    print(stats.ttest_rel(ram_bl120, i))\n",
    "    print(pearsonr(ram_bl120, i)[0])\n",
    "    print(cohen_d(ram_bl120, i))"
   ]
  },
  {
   "cell_type": "code",
   "execution_count": 30,
   "metadata": {},
   "outputs": [
    {
     "name": "stdout",
     "output_type": "stream",
     "text": [
      "Ttest_relResult(statistic=-38.275220140004436, pvalue=1.4364868295818815e-269)\n",
      "0.7777030163243064\n",
      "-0.4268583905510143\n",
      "Ttest_relResult(statistic=-26.60611069175962, pvalue=1.2186317730827482e-142)\n",
      "0.2845235037826492\n",
      "-0.5350111286200027\n"
     ]
    }
   ],
   "source": [
    "groups_ram = [ram_lr, ram_nn]\n",
    "for i in groups_ram:\n",
    "    print(stats.ttest_rel(ram_dt, i))\n",
    "    print(pearsonr(ram_dt, i)[0])\n",
    "    print(cohen_d(ram_dt, i))"
   ]
  },
  {
   "cell_type": "code",
   "execution_count": 31,
   "metadata": {},
   "outputs": [
    {
     "name": "stdout",
     "output_type": "stream",
     "text": [
      "Ttest_relResult(statistic=-8.103031145443552, pvalue=7.252626974471086e-16)\n",
      "0.2153486364494732\n",
      "-0.1693140583409673\n"
     ]
    }
   ],
   "source": [
    "print(stats.ttest_rel(ram_lr, ram_nn))\n",
    "print(pearsonr(ram_lr, ram_nn)[0])\n",
    "print(cohen_d(ram_lr, ram_nn))"
   ]
  },
  {
   "cell_type": "code",
   "execution_count": 32,
   "metadata": {},
   "outputs": [
    {
     "name": "stdout",
     "output_type": "stream",
     "text": [
      "Ttest_relResult(statistic=122.12717085257238, pvalue=0.0)\n",
      "0.05810508464484413\n",
      "1.2839621210839447\n"
     ]
    }
   ],
   "source": [
    "print(stats.ttest_rel(ram_bl_600, ram_svm))\n",
    "print(pearsonr(ram_bl_600, ram_svm)[0])\n",
    "print(cohen_d(ram_bl_600, ram_svm))"
   ]
  },
  {
   "cell_type": "code",
   "execution_count": 33,
   "metadata": {},
   "outputs": [
    {
     "name": "stdout",
     "output_type": "stream",
     "text": [
      "Ttest_relResult(statistic=-0.9368688281800149, pvalue=0.348888360066274)\n",
      "0.0071659726011496835\n",
      "-0.021910053005254743\n",
      "Ttest_relResult(statistic=-1.1421940395303578, pvalue=0.2534487061957039)\n",
      "0.01969120912353848\n",
      "-0.026546726198472228\n",
      "Ttest_relResult(statistic=-9.78550031465196, pvalue=2.448659007344812e-22)\n",
      "0.02793394490434335\n",
      "-0.22679501056239645\n"
     ]
    }
   ],
   "source": [
    "groups_power = [el_power_dt.fillna(0),el_power_lr.fillna(0), el_power_nn.fillna(0)]\n",
    "for i in groups_power:\n",
    "    print(stats.ttest_rel(el_power_bl120.fillna(0), i))\n",
    "    print(pearsonr(el_power_bl120.fillna(0), i)[0])\n",
    "    print(cohen_d(el_power_bl120.fillna(0), i))"
   ]
  },
  {
   "cell_type": "code",
   "execution_count": 34,
   "metadata": {},
   "outputs": [
    {
     "name": "stdout",
     "output_type": "stream",
     "text": [
      "Ttest_relResult(statistic=-0.22395168116748992, pvalue=0.8228075041225316)\n",
      "0.2413302419826574\n",
      "-0.004578291277309153\n",
      "Ttest_relResult(statistic=-9.256161216383276, pvalue=3.526612881331033e-20)\n",
      "0.1781453453004845\n",
      "-0.1979867988186168\n"
     ]
    }
   ],
   "source": [
    "groups_power = [el_power_lr.fillna(0), el_power_nn.fillna(0)]\n",
    "for i in groups_power:\n",
    "    print(stats.ttest_rel(el_power_dt.fillna(0).fillna(0), i))\n",
    "    print(pearsonr(el_power_dt.fillna(0).fillna(0), i)[0])\n",
    "    print(cohen_d(el_power_dt.fillna(0), i))"
   ]
  },
  {
   "cell_type": "code",
   "execution_count": 35,
   "metadata": {},
   "outputs": [
    {
     "name": "stdout",
     "output_type": "stream",
     "text": [
      "Ttest_relResult(statistic=-9.090189179792922, pvalue=1.588872711722031e-19)\n",
      "0.19428630622637774\n",
      "-0.19247137555056104\n"
     ]
    }
   ],
   "source": [
    "print(stats.ttest_rel(el_power_lr.fillna(0).fillna(0), el_power_nn.fillna(0)))\n",
    "print(pearsonr(el_power_lr.fillna(0).fillna(0), el_power_nn.fillna(0))[0])\n",
    "print(cohen_d(el_power_lr.fillna(0), i))"
   ]
  },
  {
   "cell_type": "code",
   "execution_count": 38,
   "metadata": {},
   "outputs": [
    {
     "name": "stdout",
     "output_type": "stream",
     "text": [
      "Ttest_relResult(statistic=-108.131328018008, pvalue=0.0)\n",
      "-0.0032097772416301885\n",
      "-1.1401164437296898\n"
     ]
    }
   ],
   "source": [
    "print(stats.ttest_rel(el_power_bl_600.fillna(0).fillna(0), el_power_svm.fillna(0)))\n",
    "print(pearsonr(el_power_bl_600.fillna(0).fillna(0), el_power_svm.fillna(0))[0])\n",
    "print(cohen_d(el_power_bl_600.fillna(0), el_power_svm.fillna(0)))"
   ]
  }
 ],
 "metadata": {
  "kernelspec": {
   "display_name": "Python 3",
   "language": "python",
   "name": "python3"
  },
  "language_info": {
   "codemirror_mode": {
    "name": "ipython",
    "version": 3
   },
   "file_extension": ".py",
   "mimetype": "text/x-python",
   "name": "python",
   "nbconvert_exporter": "python",
   "pygments_lexer": "ipython3",
   "version": "3.10.7"
  },
  "orig_nbformat": 4
 },
 "nbformat": 4,
 "nbformat_minor": 2
}
