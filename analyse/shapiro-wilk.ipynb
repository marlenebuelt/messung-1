{
 "cells": [
  {
   "cell_type": "code",
   "execution_count": 16,
   "metadata": {},
   "outputs": [],
   "source": [
    "import pandas as pd\n",
    "from scipy.stats import shapiro"
   ]
  },
  {
   "cell_type": "code",
   "execution_count": 17,
   "metadata": {},
   "outputs": [],
   "source": [
    "df_bl_120=pd.read_csv('/Users/marlenebultemann/Desktop/IUG/Delfi/#Messungen/Baseline_Tesla_WinAutomate_120s+60s_cooldown_new/df_bl_120.csv')\n",
    "df_bl_600=pd.read_csv('/Users/marlenebultemann/Desktop/IUG/Delfi/#Messungen/Baseline_Tesla_600+60/df_bl_600.csv')\n",
    "df_dt=pd.read_csv('/Users/marlenebultemann/Desktop/IUG/Delfi/#Messungen/1/df_dt.csv')\n",
    "df_lr=pd.read_csv('/Users/marlenebultemann/Desktop/IUG/Delfi/#Messungen/2/df_lr.csv')\n",
    "df_svm=pd.read_csv('/Users/marlenebultemann/Desktop/IUG/Delfi/#Messungen/4_SVM/df_svm.csv')\n",
    "df_nn=pd.read_csv('/Users/marlenebultemann/Desktop/IUG/Delfi/#Messungen/3_NN/df_nn.csv')"
   ]
  },
  {
   "cell_type": "code",
   "execution_count": 18,
   "metadata": {},
   "outputs": [],
   "source": [
    "cpu_bl120 = df_bl_120['CPU']\n",
    "ram_bl120 = df_bl_120['RAM']\n",
    "el_power_bl120 = df_bl_120['Wert 1-avg[W]'].dropna()\n",
    "\n",
    "#600+ 60\n",
    "cpu_bl_600= df_bl_600['CPU']\n",
    "ram_bl_600= df_bl_600['RAM']\n",
    "el_power_bl_600= df_bl_600['Wert 1-avg[W]'].dropna()\n",
    "\n",
    "#dt\n",
    "cpu_dt = df_dt['CPU']\n",
    "ram_dt = df_dt['RAM']\n",
    "el_power_dt = df_dt['Wert 1-avg[W]'].dropna()\n",
    "\n",
    "#lr\n",
    "cpu_lr = df_lr['CPU']\n",
    "ram_lr = df_lr['RAM']\n",
    "el_power_lr = df_lr['Wert 1-avg[W]'].dropna()\n",
    "\n",
    "#svm\n",
    "cpu_svm = df_svm['CPU']\n",
    "ram_svm = df_svm['RAM']\n",
    "el_power_svm = df_svm['Wert 1-avg[W]'].dropna()\n",
    "\n",
    "#nn\n",
    "cpu_nn = df_nn['CPU']\n",
    "ram_nn = df_nn['RAM']\n",
    "el_power_nn = df_nn['Wert 1-avg[W]'].dropna()"
   ]
  },
  {
   "cell_type": "code",
   "execution_count": 19,
   "metadata": {},
   "outputs": [
    {
     "name": "stdout",
     "output_type": "stream",
     "text": [
      "ShapiroResult(statistic=0.8362030982971191, pvalue=0.0)\n",
      "ShapiroResult(statistic=0.901360273361206, pvalue=1.9478048654114957e-43)\n",
      "ShapiroResult(statistic=0.24756699800491333, pvalue=0.0)\n"
     ]
    }
   ],
   "source": [
    "print(shapiro(cpu_bl120))\n",
    "print(shapiro(ram_bl120))\n",
    "print(shapiro(el_power_bl120))"
   ]
  },
  {
   "cell_type": "code",
   "execution_count": 20,
   "metadata": {},
   "outputs": [
    {
     "name": "stdout",
     "output_type": "stream",
     "text": [
      "ShapiroResult(statistic=0.65428626537323, pvalue=0.0)\n",
      "ShapiroResult(statistic=0.9750035405158997, pvalue=0.0)\n",
      "ShapiroResult(statistic=0.2253553867340088, pvalue=0.0)\n"
     ]
    },
    {
     "name": "stderr",
     "output_type": "stream",
     "text": [
      "/Library/Frameworks/Python.framework/Versions/3.10/lib/python3.10/site-packages/scipy/stats/_morestats.py:1761: UserWarning: p-value may not be accurate for N > 5000.\n",
      "  warnings.warn(\"p-value may not be accurate for N > 5000.\")\n"
     ]
    }
   ],
   "source": [
    "print(shapiro(cpu_bl_600))\n",
    "print(shapiro(ram_bl_600))\n",
    "print(shapiro(el_power_bl_600))"
   ]
  },
  {
   "cell_type": "code",
   "execution_count": 21,
   "metadata": {},
   "outputs": [
    {
     "name": "stdout",
     "output_type": "stream",
     "text": [
      "ShapiroResult(statistic=0.33683186769485474, pvalue=0.0)\n",
      "ShapiroResult(statistic=0.22550493478775024, pvalue=0.0)\n",
      "ShapiroResult(statistic=0.22855538129806519, pvalue=0.0)\n"
     ]
    }
   ],
   "source": [
    "print(shapiro(cpu_dt))\n",
    "print(shapiro(ram_dt))\n",
    "print(shapiro(el_power_dt))"
   ]
  },
  {
   "cell_type": "code",
   "execution_count": 22,
   "metadata": {},
   "outputs": [
    {
     "name": "stdout",
     "output_type": "stream",
     "text": [
      "ShapiroResult(statistic=0.3423583507537842, pvalue=0.0)\n",
      "ShapiroResult(statistic=0.20055747032165527, pvalue=0.0)\n",
      "ShapiroResult(statistic=0.24779069423675537, pvalue=0.0)\n"
     ]
    }
   ],
   "source": [
    "print(shapiro(cpu_lr))\n",
    "print(shapiro(ram_lr))\n",
    "print(shapiro(el_power_lr))"
   ]
  },
  {
   "cell_type": "code",
   "execution_count": 23,
   "metadata": {},
   "outputs": [
    {
     "name": "stdout",
     "output_type": "stream",
     "text": [
      "ShapiroResult(statistic=0.6850359439849854, pvalue=0.0)\n",
      "ShapiroResult(statistic=0.7003403306007385, pvalue=0.0)\n",
      "ShapiroResult(statistic=0.6886086463928223, pvalue=0.0)\n"
     ]
    }
   ],
   "source": [
    "print(shapiro(cpu_svm))\n",
    "print(shapiro(ram_svm))\n",
    "print(shapiro(el_power_svm))"
   ]
  },
  {
   "cell_type": "code",
   "execution_count": 24,
   "metadata": {},
   "outputs": [
    {
     "name": "stdout",
     "output_type": "stream",
     "text": [
      "ShapiroResult(statistic=0.4358588457107544, pvalue=0.0)\n",
      "ShapiroResult(statistic=0.3904985189437866, pvalue=0.0)\n",
      "ShapiroResult(statistic=0.4080660343170166, pvalue=0.0)\n"
     ]
    }
   ],
   "source": [
    "print(shapiro(cpu_nn))\n",
    "print(shapiro(ram_nn))\n",
    "print(shapiro(el_power_nn))"
   ]
  }
 ],
 "metadata": {
  "kernelspec": {
   "display_name": "Python 3",
   "language": "python",
   "name": "python3"
  },
  "language_info": {
   "codemirror_mode": {
    "name": "ipython",
    "version": 3
   },
   "file_extension": ".py",
   "mimetype": "text/x-python",
   "name": "python",
   "nbconvert_exporter": "python",
   "pygments_lexer": "ipython3",
   "version": "3.10.7"
  },
  "orig_nbformat": 4
 },
 "nbformat": 4,
 "nbformat_minor": 2
}
